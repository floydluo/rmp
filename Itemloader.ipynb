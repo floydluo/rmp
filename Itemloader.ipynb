{
 "cells": [
  {
   "cell_type": "code",
   "execution_count": 12,
   "metadata": {
    "collapsed": true
   },
   "outputs": [],
   "source": [
    "body = 'noCB({ \"responseHeader\":{ \"status\":0, \"QTime\":1}, \"response\":{\"numFound\":3021,\"start\":0,\"docs\":[ { \"averageratingscore_rf\":1.5, \"pk_id\":1904316, \"total_number_of_ratings_i\":1, \"schoolid_s\":\"1094\", \"teacherfirstname_t\":\"Behnam\", \"teacherlastname_t\":\"Abasht\"}, { \"averageratingscore_rf\":4.94, \"pk_id\":1157951, \"total_number_of_ratings_i\":8, \"schoolid_s\":\"1094\", \"teacherfirstname_t\":\"Martin\", \"teacherlastname_t\":\"Abbott\"}, { \"averageratingscore_rf\":4.75, \"pk_id\":1219290, \"total_number_of_ratings_i\":2, \"schoolid_s\":\"1094\", \"teacherfirstname_t\":\"Jessica\", \"teacherlastname_t\":\"Abbruzzese\"}, { \"averageratingscore_rf\":4.53, \"pk_id\":82059, \"total_number_of_ratings_i\":19, \"schoolid_s\":\"1094\", \"teacherfirstname_t\":\"Sami\", \"teacherlastname_t\":\"Abdel-Salam\"}, { \"averageratingscore_rf\":4.67, \"pk_id\":2066399, \"total_number_of_ratings_i\":6, \"schoolid_s\":\"1094\", \"teacherfirstname_t\":\"Alexandre\", \"teacherlastname_t\":\"Abdoulaev\"}] }} );'"
   ]
  },
  {
   "cell_type": "code",
   "execution_count": 13,
   "metadata": {
    "collapsed": false
   },
   "outputs": [
    {
     "data": {
      "text/plain": [
       "'noCB({ \"responseHeader\":{ \"status\":0, \"QTime\":1}, \"response\":{\"numFound\":3021,\"start\":0,\"docs\":[ { \"averageratingscore_rf\":1.5, \"pk_id\":1904316, \"total_number_of_ratings_i\":1, \"schoolid_s\":\"1094\", \"teacherfirstname_t\":\"Behnam\", \"teacherlastname_t\":\"Abasht\"}, { \"averageratingscore_rf\":4.94, \"pk_id\":1157951, \"total_number_of_ratings_i\":8, \"schoolid_s\":\"1094\", \"teacherfirstname_t\":\"Martin\", \"teacherlastname_t\":\"Abbott\"}, { \"averageratingscore_rf\":4.75, \"pk_id\":1219290, \"total_number_of_ratings_i\":2, \"schoolid_s\":\"1094\", \"teacherfirstname_t\":\"Jessica\", \"teacherlastname_t\":\"Abbruzzese\"}, { \"averageratingscore_rf\":4.53, \"pk_id\":82059, \"total_number_of_ratings_i\":19, \"schoolid_s\":\"1094\", \"teacherfirstname_t\":\"Sami\", \"teacherlastname_t\":\"Abdel-Salam\"}, { \"averageratingscore_rf\":4.67, \"pk_id\":2066399, \"total_number_of_ratings_i\":6, \"schoolid_s\":\"1094\", \"teacherfirstname_t\":\"Alexandre\", \"teacherlastname_t\":\"Abdoulaev\"}] }} );'"
      ]
     },
     "execution_count": 13,
     "metadata": {},
     "output_type": "execute_result"
    }
   ],
   "source": [
    "body"
   ]
  },
  {
   "cell_type": "code",
   "execution_count": 14,
   "metadata": {
    "collapsed": false
   },
   "outputs": [
    {
     "data": {
      "text/plain": [
       "str"
      ]
     },
     "execution_count": 14,
     "metadata": {},
     "output_type": "execute_result"
    }
   ],
   "source": [
    "type(body)"
   ]
  },
  {
   "cell_type": "code",
   "execution_count": 15,
   "metadata": {
    "collapsed": false
   },
   "outputs": [],
   "source": [
    "new_body = body[5:-2]"
   ]
  },
  {
   "cell_type": "code",
   "execution_count": 16,
   "metadata": {
    "collapsed": false
   },
   "outputs": [
    {
     "data": {
      "text/plain": [
       "'{ \"responseHeader\":{ \"status\":0, \"QTime\":1}, \"response\":{\"numFound\":3021,\"start\":0,\"docs\":[ { \"averageratingscore_rf\":1.5, \"pk_id\":1904316, \"total_number_of_ratings_i\":1, \"schoolid_s\":\"1094\", \"teacherfirstname_t\":\"Behnam\", \"teacherlastname_t\":\"Abasht\"}, { \"averageratingscore_rf\":4.94, \"pk_id\":1157951, \"total_number_of_ratings_i\":8, \"schoolid_s\":\"1094\", \"teacherfirstname_t\":\"Martin\", \"teacherlastname_t\":\"Abbott\"}, { \"averageratingscore_rf\":4.75, \"pk_id\":1219290, \"total_number_of_ratings_i\":2, \"schoolid_s\":\"1094\", \"teacherfirstname_t\":\"Jessica\", \"teacherlastname_t\":\"Abbruzzese\"}, { \"averageratingscore_rf\":4.53, \"pk_id\":82059, \"total_number_of_ratings_i\":19, \"schoolid_s\":\"1094\", \"teacherfirstname_t\":\"Sami\", \"teacherlastname_t\":\"Abdel-Salam\"}, { \"averageratingscore_rf\":4.67, \"pk_id\":2066399, \"total_number_of_ratings_i\":6, \"schoolid_s\":\"1094\", \"teacherfirstname_t\":\"Alexandre\", \"teacherlastname_t\":\"Abdoulaev\"}] }} '"
      ]
     },
     "execution_count": 16,
     "metadata": {},
     "output_type": "execute_result"
    }
   ],
   "source": [
    "new_body"
   ]
  },
  {
   "cell_type": "code",
   "execution_count": 17,
   "metadata": {
    "collapsed": true
   },
   "outputs": [],
   "source": [
    "from scrapy.loader.processors import TakeFirst, Join, Compose, MapCompose, SelectJmes\n",
    "# The processors, such as TakeFirst, Compose, Mapcompose, actually are classes that need to be initialized."
   ]
  },
  {
   "cell_type": "code",
   "execution_count": 18,
   "metadata": {
    "collapsed": false
   },
   "outputs": [],
   "source": [
    "import json"
   ]
  },
  {
   "cell_type": "code",
   "execution_count": 19,
   "metadata": {
    "collapsed": true
   },
   "outputs": [],
   "source": [
    "body_dic = json.loads(new_body)"
   ]
  },
  {
   "cell_type": "code",
   "execution_count": 20,
   "metadata": {
    "collapsed": false
   },
   "outputs": [
    {
     "data": {
      "text/plain": [
       "{'response': {'docs': [{'averageratingscore_rf': 1.5,\n",
       "    'pk_id': 1904316,\n",
       "    'schoolid_s': '1094',\n",
       "    'teacherfirstname_t': 'Behnam',\n",
       "    'teacherlastname_t': 'Abasht',\n",
       "    'total_number_of_ratings_i': 1},\n",
       "   {'averageratingscore_rf': 4.94,\n",
       "    'pk_id': 1157951,\n",
       "    'schoolid_s': '1094',\n",
       "    'teacherfirstname_t': 'Martin',\n",
       "    'teacherlastname_t': 'Abbott',\n",
       "    'total_number_of_ratings_i': 8},\n",
       "   {'averageratingscore_rf': 4.75,\n",
       "    'pk_id': 1219290,\n",
       "    'schoolid_s': '1094',\n",
       "    'teacherfirstname_t': 'Jessica',\n",
       "    'teacherlastname_t': 'Abbruzzese',\n",
       "    'total_number_of_ratings_i': 2},\n",
       "   {'averageratingscore_rf': 4.53,\n",
       "    'pk_id': 82059,\n",
       "    'schoolid_s': '1094',\n",
       "    'teacherfirstname_t': 'Sami',\n",
       "    'teacherlastname_t': 'Abdel-Salam',\n",
       "    'total_number_of_ratings_i': 19},\n",
       "   {'averageratingscore_rf': 4.67,\n",
       "    'pk_id': 2066399,\n",
       "    'schoolid_s': '1094',\n",
       "    'teacherfirstname_t': 'Alexandre',\n",
       "    'teacherlastname_t': 'Abdoulaev',\n",
       "    'total_number_of_ratings_i': 6}],\n",
       "  'numFound': 3021,\n",
       "  'start': 0},\n",
       " 'responseHeader': {'QTime': 1, 'status': 0}}"
      ]
     },
     "execution_count": 20,
     "metadata": {},
     "output_type": "execute_result"
    }
   ],
   "source": [
    "body_dic"
   ]
  },
  {
   "cell_type": "code",
   "execution_count": 25,
   "metadata": {
    "collapsed": false
   },
   "outputs": [],
   "source": [
    "proc_id = SelectJmes('response.docs[*].pk_id')\n",
    "proc_response = SelectJmes('response.docs[*]')\n",
    "# you must pay attention here, to call this method, you must install the package 'jmespath' first.\n",
    "# $ pip install jmespath"
   ]
  },
  {
   "cell_type": "code",
   "execution_count": 26,
   "metadata": {
    "collapsed": false
   },
   "outputs": [
    {
     "data": {
      "text/plain": [
       "[1904316, 1157951, 1219290, 82059, 2066399]"
      ]
     },
     "execution_count": 26,
     "metadata": {},
     "output_type": "execute_result"
    }
   ],
   "source": [
    "t = proc_id(body_dic)\n",
    "t"
   ]
  },
  {
   "cell_type": "code",
   "execution_count": 27,
   "metadata": {
    "collapsed": false
   },
   "outputs": [],
   "source": [
    "url = 'http://www.ratemyprofessors.com/paginate/professors/ratings?tid=%d&page=%d' %(100,1)\n"
   ]
  },
  {
   "cell_type": "code",
   "execution_count": 28,
   "metadata": {
    "collapsed": false
   },
   "outputs": [
    {
     "data": {
      "text/plain": [
       "'http://www.ratemyprofessors.com/paginate/professors/ratings?tid=100&page=1'"
      ]
     },
     "execution_count": 28,
     "metadata": {},
     "output_type": "execute_result"
    }
   ],
   "source": [
    "url\n"
   ]
  },
  {
   "cell_type": "code",
   "execution_count": 29,
   "metadata": {
    "collapsed": false
   },
   "outputs": [],
   "source": [
    "body = '''\n",
    "{\n",
    "  \"ratings\": \n",
    "  [\n",
    "    {\n",
    "      \"attendance\": \"N/A\",\n",
    "      \"clarityColor\": \"average\",\n",
    "      \"easyColor\": \"average\",\n",
    "      \"helpColor\": \"average\",\n",
    "      \"helpCount\": 0,\n",
    "      \"id\": 11969142,\n",
    "      \"notHelpCount\": 0,\n",
    "      \"onlineClass\": \"\",\n",
    "      \"quality\": \"average\",\n",
    "      \"rClarity\": 3,\n",
    "      \"rClass\": \"ECON100ONLINE\",\n",
    "      \"rComments\": \"Definately not a class I would want to go too.  Lecutures were pretty boring.  4 midterm exams, all are open book.  Not too bad.  Alot of the questions come from the book.  Don't read it, just look it up during the test.\",\n",
    "      \"rDate\": \"06/02/2006\",\n",
    "      \"rEasy\": 3,\n",
    "      \"rEasyString\": \"3.0\",\n",
    "      \"rErrorMsg\": null,\n",
    "      \"rHelpful\": 3,\n",
    "      \"rInterest\": \"Sorta interested\",\n",
    "      \"rOverall\": 3,\n",
    "      \"rOverallString\": \"3.0\",\n",
    "      \"rStatus\": 1,\n",
    "      \"rTextBookUse\": \"N/A\",\n",
    "      \"rWouldTakeAgain\": \"N/A\",\n",
    "      \"sId\": 1094,\n",
    "      \"takenForCredit\": \"N/A\",\n",
    "      \"teacher\": null,\n",
    "      \"teacherGrade\": \"N/A\",\n",
    "      \"teacherRatingTags\": \n",
    "      [\n",
    "      ],\n",
    "      \"unUsefulGrouping\": \"people\",\n",
    "      \"usefulGrouping\": \"people\"\n",
    "    },\n",
    "    {\n",
    "      \"attendance\": \"N/A\",\n",
    "      \"clarityColor\": \"poor\",\n",
    "      \"easyColor\": \"good\",\n",
    "      \"helpColor\": \"poor\",\n",
    "      \"helpCount\": 0,\n",
    "      \"id\": 11926099,\n",
    "      \"notHelpCount\": 0,\n",
    "      \"onlineClass\": \"\",\n",
    "      \"quality\": \"awful\",\n",
    "      \"rClarity\": 1,\n",
    "      \"rClass\": \"ECON152\",\n",
    "      \"rComments\": \"HORRIBLE PROFESSOR! is rude to students and has no respect for them.  he thinks he is funny but isnt. i didnt get anything out of his class. students dont have time to listen to him teach bc we are busy copying the TONS of notes. buy the macro notes but DONT buy the macro book- u will never use it. study from the practice tests if u cant drop him\",\n",
    "      \"rDate\": \"05/22/2006\",\n",
    "      \"rEasy\": 4,\n",
    "      \"rEasyString\": \"4.0\",\n",
    "      \"rErrorMsg\": null,\n",
    "      \"rHelpful\": 1,\n",
    "      \"rInterest\": \"Really into it\",\n",
    "      \"rOverall\": 1,\n",
    "      \"rOverallString\": \"1.0\",\n",
    "      \"rStatus\": 1,\n",
    "      \"rTextBookUse\": \"N/A\",\n",
    "      \"rWouldTakeAgain\": \"N/A\",\n",
    "      \"sId\": 1094,\n",
    "      \"takenForCredit\": \"N/A\",\n",
    "      \"teacher\": null,\n",
    "      \"teacherGrade\": \"N/A\",\n",
    "      \"teacherRatingTags\": \n",
    "      [\n",
    "      ],\n",
    "      \"unUsefulGrouping\": \"people\",\n",
    "      \"usefulGrouping\": \"people\"\n",
    "    },\n",
    "    {\n",
    "      \"attendance\": \"N/A\",\n",
    "      \"clarityColor\": \"good\",\n",
    "      \"easyColor\": \"average\",\n",
    "      \"helpColor\": \"average\",\n",
    "      \"helpCount\": 0,\n",
    "      \"id\": 11753710,\n",
    "      \"notHelpCount\": 0,\n",
    "      \"onlineClass\": \"\",\n",
    "      \"quality\": \"good\",\n",
    "      \"rClarity\": 4,\n",
    "      \"rClass\": \"ECON151152\",\n",
    "      \"rComments\": \"Crazy Willie is one of the better professors here at UD. Funny as hell at the beginning, but humor can get old. Knows his stuff when it comes to economics and puts the material out there in easily understood and remembered stories. Way too much notes though. STUDY THE PRACTICE EXAMS! THEY ARE EXACTLY LIKE THE TESTS! Take Crazy Willie if you can...\",\n",
    "      \"rDate\": \"04/24/2006\",\n",
    "      \"rEasy\": 2,\n",
    "      \"rEasyString\": \"2.0\",\n",
    "      \"rErrorMsg\": null,\n",
    "      \"rHelpful\": 3,\n",
    "      \"rInterest\": \"Really into it\",\n",
    "      \"rOverall\": 3.5,\n",
    "      \"rOverallString\": \"3.5\",\n",
    "      \"rStatus\": 1,\n",
    "      \"rTextBookUse\": \"N/A\",\n",
    "      \"rWouldTakeAgain\": \"N/A\",\n",
    "      \"sId\": 1094,\n",
    "      \"takenForCredit\": \"N/A\",\n",
    "      \"teacher\": null,\n",
    "      \"teacherGrade\": \"N/A\",\n",
    "      \"teacherRatingTags\": \n",
    "      [\n",
    "      ],\n",
    "      \"unUsefulGrouping\": \"people\",\n",
    "      \"usefulGrouping\": \"people\"\n",
    "    },\n",
    "    {\n",
    "      \"attendance\": \"N/A\",\n",
    "      \"clarityColor\": \"average\",\n",
    "      \"easyColor\": \"good\",\n",
    "      \"helpColor\": \"average\",\n",
    "      \"helpCount\": 0,\n",
    "      \"id\": 11458384,\n",
    "      \"notHelpCount\": 0,\n",
    "      \"onlineClass\": \"\",\n",
    "      \"quality\": \"average\",\n",
    "      \"rClarity\": 3,\n",
    "      \"rClass\": \"ECON151\",\n",
    "      \"rComments\": \"Great teacher, but his exams are hard.\",\n",
    "      \"rDate\": \"02/06/2006\",\n",
    "      \"rEasy\": 4,\n",
    "      \"rEasyString\": \"4.0\",\n",
    "      \"rErrorMsg\": null,\n",
    "      \"rHelpful\": 3,\n",
    "      \"rInterest\": \"It's my life\",\n",
    "      \"rOverall\": 3,\n",
    "      \"rOverallString\": \"3.0\",\n",
    "      \"rStatus\": 1,\n",
    "      \"rTextBookUse\": \"N/A\",\n",
    "      \"rWouldTakeAgain\": \"N/A\",\n",
    "      \"sId\": 1094,\n",
    "      \"takenForCredit\": \"N/A\",\n",
    "      \"teacher\": null,\n",
    "      \"teacherGrade\": \"N/A\",\n",
    "      \"teacherRatingTags\": \n",
    "      [\n",
    "      ],\n",
    "      \"unUsefulGrouping\": \"people\",\n",
    "      \"usefulGrouping\": \"people\"\n",
    "    },\n",
    "    {\n",
    "      \"attendance\": \"N/A\",\n",
    "      \"clarityColor\": \"good\",\n",
    "      \"easyColor\": \"average\",\n",
    "      \"helpColor\": \"good\",\n",
    "      \"helpCount\": 0,\n",
    "      \"id\": 11422673,\n",
    "      \"notHelpCount\": 0,\n",
    "      \"onlineClass\": \"\",\n",
    "      \"quality\": \"good\",\n",
    "      \"rClarity\": 4,\n",
    "      \"rClass\": \"ECON151\",\n",
    "      \"rComments\": \"Very good professor.  Worth going to lecture because he is really funny.  Study the practice exams because they are near identical to the actual exam.    Only tough exam was the final.  If you dont like being called on, do not sit at the end of the rows!  Really enjoyed this class and caused me to switch to a business major!\",\n",
    "      \"rDate\": \"01/26/2006\",\n",
    "      \"rEasy\": 2,\n",
    "      \"rEasyString\": \"2.0\",\n",
    "      \"rErrorMsg\": null,\n",
    "      \"rHelpful\": 4,\n",
    "      \"rInterest\": \"Really into it\",\n",
    "      \"rOverall\": 4,\n",
    "      \"rOverallString\": \"4.0\",\n",
    "      \"rStatus\": 1,\n",
    "      \"rTextBookUse\": \"N/A\",\n",
    "      \"rWouldTakeAgain\": \"N/A\",\n",
    "      \"sId\": 1094,\n",
    "      \"takenForCredit\": \"N/A\",\n",
    "      \"teacher\": null,\n",
    "      \"teacherGrade\": \"N/A\",\n",
    "      \"teacherRatingTags\": \n",
    "      [\n",
    "      ],\n",
    "      \"unUsefulGrouping\": \"people\",\n",
    "      \"usefulGrouping\": \"people\"\n",
    "    },\n",
    "    {\n",
    "      \"attendance\": \"N/A\",\n",
    "      \"clarityColor\": \"good\",\n",
    "      \"easyColor\": \"poor\",\n",
    "      \"helpColor\": \"good\",\n",
    "      \"helpCount\": 0,\n",
    "      \"id\": 11141135,\n",
    "      \"notHelpCount\": 0,\n",
    "      \"onlineClass\": \"\",\n",
    "      \"quality\": \"awesome\",\n",
    "      \"rClarity\": 5,\n",
    "      \"rClass\": \"ECON151\",\n",
    "      \"rComments\": \"Not sure why there are neg comments for him...He is the greatest professor at this university.  If you go to class, take his notes and pay attention you will do fine.  Make sure you use the practice exams, b/c the actual exams are the same just some questions are flipped around.  Greatest professor i have ever had.  Can be funny, take this class!\",\n",
    "      \"rDate\": \"12/13/2005\",\n",
    "      \"rEasy\": 1,\n",
    "      \"rEasyString\": \"1.0\",\n",
    "      \"rErrorMsg\": null,\n",
    "      \"rHelpful\": 5,\n",
    "      \"rInterest\": \"Sorta interested\",\n",
    "      \"rOverall\": 5,\n",
    "      \"rOverallString\": \"5.0\",\n",
    "      \"rStatus\": 1,\n",
    "      \"rTextBookUse\": \"N/A\",\n",
    "      \"rWouldTakeAgain\": \"N/A\",\n",
    "      \"sId\": 1094,\n",
    "      \"takenForCredit\": \"N/A\",\n",
    "      \"teacher\": null,\n",
    "      \"teacherGrade\": \"N/A\",\n",
    "      \"teacherRatingTags\": \n",
    "      [\n",
    "      ],\n",
    "      \"unUsefulGrouping\": \"people\",\n",
    "      \"usefulGrouping\": \"people\"\n",
    "    },\n",
    "    {\n",
    "      \"attendance\": \"N/A\",\n",
    "      \"clarityColor\": \"average\",\n",
    "      \"easyColor\": \"good\",\n",
    "      \"helpColor\": \"average\",\n",
    "      \"helpCount\": 0,\n",
    "      \"id\": 11118122,\n",
    "      \"notHelpCount\": 0,\n",
    "      \"onlineClass\": \"\",\n",
    "      \"quality\": \"average\",\n",
    "      \"rClarity\": 2,\n",
    "      \"rClass\": \"ECON152\",\n",
    "      \"rComments\": \"This class was a lot harder than I thought it would be.  I decided to take it online but that was a BIG mistake.  The tests are hard and very confusing and its even worse when you don't have the teacher in class or at the test to clarify things... especially with this class.  If you have to take this class, do NOT take it online, you'll regret it.\",\n",
    "      \"rDate\": \"12/11/2005\",\n",
    "      \"rEasy\": 4,\n",
    "      \"rEasyString\": \"4.0\",\n",
    "      \"rErrorMsg\": null,\n",
    "      \"rHelpful\": 3,\n",
    "      \"rInterest\": \"Low\",\n",
    "      \"rOverall\": 2.5,\n",
    "      \"rOverallString\": \"2.5\",\n",
    "      \"rStatus\": 1,\n",
    "      \"rTextBookUse\": \"N/A\",\n",
    "      \"rWouldTakeAgain\": \"N/A\",\n",
    "      \"sId\": 1094,\n",
    "      \"takenForCredit\": \"N/A\",\n",
    "      \"teacher\": null,\n",
    "      \"teacherGrade\": \"N/A\",\n",
    "      \"teacherRatingTags\": \n",
    "      [\n",
    "      ],\n",
    "      \"unUsefulGrouping\": \"people\",\n",
    "      \"usefulGrouping\": \"people\"\n",
    "    },\n",
    "    {\n",
    "      \"attendance\": \"Mandatory\",\n",
    "      \"clarityColor\": \"poor\",\n",
    "      \"easyColor\": \"good\",\n",
    "      \"helpColor\": \"poor\",\n",
    "      \"helpCount\": 0,\n",
    "      \"id\": 11077160,\n",
    "      \"notHelpCount\": 0,\n",
    "      \"onlineClass\": \"\",\n",
    "      \"quality\": \"awful\",\n",
    "      \"rClarity\": 1,\n",
    "      \"rClass\": \"ECON151\",\n",
    "      \"rComments\": \"if harris died i would laugh over his dead body. try to get help from him in his office hours and he'll make you feel like an idiot. impossible to pay attention to his lectures because you're too busy taking his 5000 pages of notes. AVOID HARRIS AT ALL COSTS. he knows economics but he CANNOT teach it to save his life and will not help you.\",\n",
    "      \"rDate\": \"12/07/2005\",\n",
    "      \"rEasy\": 4,\n",
    "      \"rEasyString\": \"4.0\",\n",
    "      \"rErrorMsg\": null,\n",
    "      \"rHelpful\": 1,\n",
    "      \"rInterest\": \"Meh\",\n",
    "      \"rOverall\": 1,\n",
    "      \"rOverallString\": \"1.0\",\n",
    "      \"rStatus\": 1,\n",
    "      \"rTextBookUse\": \"N/A\",\n",
    "      \"rWouldTakeAgain\": \"N/A\",\n",
    "      \"sId\": 1094,\n",
    "      \"takenForCredit\": \"N/A\",\n",
    "      \"teacher\": null,\n",
    "      \"teacherGrade\": \"A\",\n",
    "      \"teacherRatingTags\": \n",
    "      [\n",
    "      ],\n",
    "      \"unUsefulGrouping\": \"people\",\n",
    "      \"usefulGrouping\": \"people\"\n",
    "    },\n",
    "    {\n",
    "      \"attendance\": \"N/A\",\n",
    "      \"clarityColor\": \"poor\",\n",
    "      \"easyColor\": \"good\",\n",
    "      \"helpColor\": \"poor\",\n",
    "      \"helpCount\": 0,\n",
    "      \"id\": 11002845,\n",
    "      \"notHelpCount\": 0,\n",
    "      \"onlineClass\": \"\",\n",
    "      \"quality\": \"poor\",\n",
    "      \"rClarity\": 1,\n",
    "      \"rClass\": \"ECON151\",\n",
    "      \"rComments\": \"He tries way to hard to be funny, and he gives wayyyyy too many notes that cannot possibly be copied and learned at the same time.  He talks about viagra way too much, and overall his class sucks.  Although, I did enjoy halloween when he wore leather pants.\",\n",
    "      \"rDate\": \"11/29/2005\",\n",
    "      \"rEasy\": 4,\n",
    "      \"rEasyString\": \"4.0\",\n",
    "      \"rErrorMsg\": null,\n",
    "      \"rHelpful\": 2,\n",
    "      \"rInterest\": \"Meh\",\n",
    "      \"rOverall\": 1.5,\n",
    "      \"rOverallString\": \"1.5\",\n",
    "      \"rStatus\": 1,\n",
    "      \"rTextBookUse\": \"N/A\",\n",
    "      \"rWouldTakeAgain\": \"N/A\",\n",
    "      \"sId\": 1094,\n",
    "      \"takenForCredit\": \"N/A\",\n",
    "      \"teacher\": null,\n",
    "      \"teacherGrade\": \"N/A\",\n",
    "      \"teacherRatingTags\": \n",
    "      [\n",
    "      ],\n",
    "      \"unUsefulGrouping\": \"people\",\n",
    "      \"usefulGrouping\": \"people\"\n",
    "    },\n",
    "    {\n",
    "      \"attendance\": \"N/A\",\n",
    "      \"clarityColor\": \"good\",\n",
    "      \"easyColor\": \"poor\",\n",
    "      \"helpColor\": \"average\",\n",
    "      \"helpCount\": 0,\n",
    "      \"id\": 10890279,\n",
    "      \"notHelpCount\": 0,\n",
    "      \"onlineClass\": \"\",\n",
    "      \"quality\": \"good\",\n",
    "      \"rClarity\": 4,\n",
    "      \"rClass\": \"ECON\",\n",
    "      \"rComments\": \"He tries too hard to be funny. I laughed the first couple weeks but then it got annoying, because his jokes are really repetitive. I do like when he singles people out, I kind of want to be singled out to go one on one with him but i haven't yet. Class is a joke since I took AP Econ last yr...same exact class. He's an **** when you meet him tho.\",\n",
    "      \"rDate\": \"11/12/2005\",\n",
    "      \"rEasy\": 1,\n",
    "      \"rEasyString\": \"1.0\",\n",
    "      \"rErrorMsg\": null,\n",
    "      \"rHelpful\": 3,\n",
    "      \"rInterest\": \"Sorta interested\",\n",
    "      \"rOverall\": 3.5,\n",
    "      \"rOverallString\": \"3.5\",\n",
    "      \"rStatus\": 1,\n",
    "      \"rTextBookUse\": \"N/A\",\n",
    "      \"rWouldTakeAgain\": \"N/A\",\n",
    "      \"sId\": 1094,\n",
    "      \"takenForCredit\": \"N/A\",\n",
    "      \"teacher\": null,\n",
    "      \"teacherGrade\": \"N/A\",\n",
    "      \"teacherRatingTags\": \n",
    "      [\n",
    "      ],\n",
    "      \"unUsefulGrouping\": \"people\",\n",
    "      \"usefulGrouping\": \"people\"\n",
    "    },\n",
    "    {\n",
    "      \"attendance\": \"N/A\",\n",
    "      \"clarityColor\": \"good\",\n",
    "      \"easyColor\": \"poor\",\n",
    "      \"helpColor\": \"good\",\n",
    "      \"helpCount\": 0,\n",
    "      \"id\": 10634606,\n",
    "      \"notHelpCount\": 0,\n",
    "      \"onlineClass\": \"\",\n",
    "      \"quality\": \"good\",\n",
    "      \"rClarity\": 5,\n",
    "      \"rClass\": \"ECON100\",\n",
    "      \"rComments\": \"Very funny guy, def. makes class interesting...don't sit in the aisles or rows...he will pick on you...don't buy the textbook...all tests are STR8 from class notes...presents material very clear and concise...class always has alot of hot girls in it...highly recomend any ECON class with Harris......\",\n",
    "      \"rDate\": \"10/25/2005\",\n",
    "      \"rEasy\": 1,\n",
    "      \"rEasyString\": \"1.0\",\n",
    "      \"rErrorMsg\": null,\n",
    "      \"rHelpful\": 3,\n",
    "      \"rInterest\": \"Sorta interested\",\n",
    "      \"rOverall\": 4,\n",
    "      \"rOverallString\": \"4.0\",\n",
    "      \"rStatus\": 1,\n",
    "      \"rTextBookUse\": \"N/A\",\n",
    "      \"rWouldTakeAgain\": \"N/A\",\n",
    "      \"sId\": 1094,\n",
    "      \"takenForCredit\": \"N/A\",\n",
    "      \"teacher\": null,\n",
    "      \"teacherGrade\": \"N/A\",\n",
    "      \"teacherRatingTags\": \n",
    "      [\n",
    "      ],\n",
    "      \"unUsefulGrouping\": \"people\",\n",
    "      \"usefulGrouping\": \"people\"\n",
    "    },\n",
    "    {\n",
    "      \"attendance\": \"N/A\",\n",
    "      \"clarityColor\": \"good\",\n",
    "      \"easyColor\": \"poor\",\n",
    "      \"helpColor\": \"good\",\n",
    "      \"helpCount\": 0,\n",
    "      \"id\": 10734611,\n",
    "      \"notHelpCount\": 0,\n",
    "      \"onlineClass\": \"\",\n",
    "      \"quality\": \"good\",\n",
    "      \"rClarity\": 4,\n",
    "      \"rClass\": \"MICRO151\",\n",
    "      \"rComments\": \"Trys to be funny, test are extremeley easy\",\n",
    "      \"rDate\": \"10/03/2005\",\n",
    "      \"rEasy\": 1,\n",
    "      \"rEasyString\": \"1.0\",\n",
    "      \"rErrorMsg\": null,\n",
    "      \"rHelpful\": 4,\n",
    "      \"rInterest\": \"It's my life\",\n",
    "      \"rOverall\": 4,\n",
    "      \"rOverallString\": \"4.0\",\n",
    "      \"rStatus\": 1,\n",
    "      \"rTextBookUse\": \"N/A\",\n",
    "      \"rWouldTakeAgain\": \"N/A\",\n",
    "      \"sId\": 1094,\n",
    "      \"takenForCredit\": \"N/A\",\n",
    "      \"teacher\": null,\n",
    "      \"teacherGrade\": \"N/A\",\n",
    "      \"teacherRatingTags\": \n",
    "      [\n",
    "      ],\n",
    "      \"unUsefulGrouping\": \"people\",\n",
    "      \"usefulGrouping\": \"people\"\n",
    "    },\n",
    "    {\n",
    "      \"attendance\": \"N/A\",\n",
    "      \"clarityColor\": \"average\",\n",
    "      \"easyColor\": \"good\",\n",
    "      \"helpColor\": \"average\",\n",
    "      \"helpCount\": 0,\n",
    "      \"id\": 10446760,\n",
    "      \"notHelpCount\": 0,\n",
    "      \"onlineClass\": \"\",\n",
    "      \"quality\": \"poor\",\n",
    "      \"rClarity\": 2,\n",
    "      \"rClass\": \"ECON152\",\n",
    "      \"rComments\": \"good luck!\",\n",
    "      \"rDate\": \"09/25/2005\",\n",
    "      \"rEasy\": 4,\n",
    "      \"rEasyString\": \"4.0\",\n",
    "      \"rErrorMsg\": null,\n",
    "      \"rHelpful\": 2,\n",
    "      \"rInterest\": \"Sorta interested\",\n",
    "      \"rOverall\": 2,\n",
    "      \"rOverallString\": \"2.0\",\n",
    "      \"rStatus\": 1,\n",
    "      \"rTextBookUse\": \"N/A\",\n",
    "      \"rWouldTakeAgain\": \"N/A\",\n",
    "      \"sId\": 1094,\n",
    "      \"takenForCredit\": \"N/A\",\n",
    "      \"teacher\": null,\n",
    "      \"teacherGrade\": \"N/A\",\n",
    "      \"teacherRatingTags\": \n",
    "      [\n",
    "      ],\n",
    "      \"unUsefulGrouping\": \"people\",\n",
    "      \"usefulGrouping\": \"people\"\n",
    "    },\n",
    "    {\n",
    "      \"attendance\": \"N/A\",\n",
    "      \"clarityColor\": \"average\",\n",
    "      \"easyColor\": \"average\",\n",
    "      \"helpColor\": \"average\",\n",
    "      \"helpCount\": 0,\n",
    "      \"id\": 10136367,\n",
    "      \"notHelpCount\": 0,\n",
    "      \"onlineClass\": \"\",\n",
    "      \"quality\": \"average\",\n",
    "      \"rClarity\": 3,\n",
    "      \"rClass\": \"ECON152\",\n",
    "      \"rComments\": \"Harris, is a nut.  Your hand better not be sore or else its going to be a long day.  I didn't learn anything by going to the lectures really because i couldn't ever listen to what he was saying.  I was to busy copying all the overheads each day.  I recommend partnering up with a friend and go every other class or 1 person copies and other listens.\",\n",
    "      \"rDate\": \"08/18/2005\",\n",
    "      \"rEasy\": 3,\n",
    "      \"rEasyString\": \"3.0\",\n",
    "      \"rErrorMsg\": null,\n",
    "      \"rHelpful\": 2,\n",
    "      \"rInterest\": \"It's my life\",\n",
    "      \"rOverall\": 2.5,\n",
    "      \"rOverallString\": \"2.5\",\n",
    "      \"rStatus\": 1,\n",
    "      \"rTextBookUse\": \"N/A\",\n",
    "      \"rWouldTakeAgain\": \"N/A\",\n",
    "      \"sId\": 1094,\n",
    "      \"takenForCredit\": \"N/A\",\n",
    "      \"teacher\": null,\n",
    "      \"teacherGrade\": \"N/A\",\n",
    "      \"teacherRatingTags\": \n",
    "      [\n",
    "      ],\n",
    "      \"unUsefulGrouping\": \"people\",\n",
    "      \"usefulGrouping\": \"people\"\n",
    "    },\n",
    "    {\n",
    "      \"attendance\": \"N/A\",\n",
    "      \"clarityColor\": \"good\",\n",
    "      \"easyColor\": \"poor\",\n",
    "      \"helpColor\": \"good\",\n",
    "      \"helpCount\": 0,\n",
    "      \"id\": 10080082,\n",
    "      \"notHelpCount\": 0,\n",
    "      \"onlineClass\": \"\",\n",
    "      \"quality\": \"awesome\",\n",
    "      \"rClarity\": 5,\n",
    "      \"rClass\": \"ECON151194\",\n",
    "      \"rComments\": \"if you have to take this class do it online. trust me it is the best way!\",\n",
    "      \"rDate\": \"08/01/2005\",\n",
    "      \"rEasy\": 1,\n",
    "      \"rEasyString\": \"1.0\",\n",
    "      \"rErrorMsg\": null,\n",
    "      \"rHelpful\": 5,\n",
    "      \"rInterest\": \"Sorta interested\",\n",
    "      \"rOverall\": 5,\n",
    "      \"rOverallString\": \"5.0\",\n",
    "      \"rStatus\": 1,\n",
    "      \"rTextBookUse\": \"N/A\",\n",
    "      \"rWouldTakeAgain\": \"N/A\",\n",
    "      \"sId\": 1094,\n",
    "      \"takenForCredit\": \"N/A\",\n",
    "      \"teacher\": null,\n",
    "      \"teacherGrade\": \"N/A\",\n",
    "      \"teacherRatingTags\": \n",
    "      [\n",
    "      ],\n",
    "      \"unUsefulGrouping\": \"people\",\n",
    "      \"usefulGrouping\": \"people\"\n",
    "    },\n",
    "    {\n",
    "      \"attendance\": \"N/A\",\n",
    "      \"clarityColor\": \"good\",\n",
    "      \"easyColor\": \"average\",\n",
    "      \"helpColor\": \"good\",\n",
    "      \"helpCount\": 0,\n",
    "      \"id\": 4030217,\n",
    "      \"notHelpCount\": 0,\n",
    "      \"onlineClass\": \"\",\n",
    "      \"quality\": \"awesome\",\n",
    "      \"rClarity\": 4,\n",
    "      \"rClass\": \"ECON152\",\n",
    "      \"rComments\": \"Crazy Willie is a great teacher, he relates the usually boring topics to things the college students would find interesting (beer sex parties). His tests are EXACTLY like the old exams that he gives you, study them! Just make sure you either go to class or get the notes from a friend, i didnt open the book once, i just used the notes. GOOD CLASS\",\n",
    "      \"rDate\": \"06/24/2005\",\n",
    "      \"rEasy\": 3,\n",
    "      \"rEasyString\": \"3.0\",\n",
    "      \"rErrorMsg\": null,\n",
    "      \"rHelpful\": 5,\n",
    "      \"rInterest\": \"Really into it\",\n",
    "      \"rOverall\": 4.5,\n",
    "      \"rOverallString\": \"4.5\",\n",
    "      \"rStatus\": 1,\n",
    "      \"rTextBookUse\": \"N/A\",\n",
    "      \"rWouldTakeAgain\": \"N/A\",\n",
    "      \"sId\": 1094,\n",
    "      \"takenForCredit\": \"N/A\",\n",
    "      \"teacher\": null,\n",
    "      \"teacherGrade\": \"N/A\",\n",
    "      \"teacherRatingTags\": \n",
    "      [\n",
    "      ],\n",
    "      \"unUsefulGrouping\": \"people\",\n",
    "      \"usefulGrouping\": \"people\"\n",
    "    },\n",
    "    {\n",
    "      \"attendance\": \"N/A\",\n",
    "      \"clarityColor\": \"good\",\n",
    "      \"easyColor\": \"poor\",\n",
    "      \"helpColor\": \"good\",\n",
    "      \"helpCount\": 0,\n",
    "      \"id\": 3951654,\n",
    "      \"notHelpCount\": 0,\n",
    "      \"onlineClass\": \"\",\n",
    "      \"quality\": \"awesome\",\n",
    "      \"rClarity\": 5,\n",
    "      \"rClass\": \"ECON151152\",\n",
    "      \"rComments\": \"His tests are all open book and he makes economics seem interesting.  Always happy to help students outside of class.\",\n",
    "      \"rDate\": \"06/01/2005\",\n",
    "      \"rEasy\": 1,\n",
    "      \"rEasyString\": \"1.0\",\n",
    "      \"rErrorMsg\": null,\n",
    "      \"rHelpful\": 5,\n",
    "      \"rInterest\": \"Sorta interested\",\n",
    "      \"rOverall\": 5,\n",
    "      \"rOverallString\": \"5.0\",\n",
    "      \"rStatus\": 1,\n",
    "      \"rTextBookUse\": \"N/A\",\n",
    "      \"rWouldTakeAgain\": \"N/A\",\n",
    "      \"sId\": 1094,\n",
    "      \"takenForCredit\": \"N/A\",\n",
    "      \"teacher\": null,\n",
    "      \"teacherGrade\": \"N/A\",\n",
    "      \"teacherRatingTags\": \n",
    "      [\n",
    "      ],\n",
    "      \"unUsefulGrouping\": \"people\",\n",
    "      \"usefulGrouping\": \"people\"\n",
    "    },\n",
    "    {\n",
    "      \"attendance\": \"N/A\",\n",
    "      \"clarityColor\": \"average\",\n",
    "      \"easyColor\": \"good\",\n",
    "      \"helpColor\": \"average\",\n",
    "      \"helpCount\": 0,\n",
    "      \"id\": 3904800,\n",
    "      \"notHelpCount\": 0,\n",
    "      \"onlineClass\": \"\",\n",
    "      \"quality\": \"average\",\n",
    "      \"rClarity\": 3,\n",
    "      \"rClass\": \"ECON152\",\n",
    "      \"rComments\": \"go to class, take notes, and study old exams--then you will be fine.\",\n",
    "      \"rDate\": \"05/22/2005\",\n",
    "      \"rEasy\": 4,\n",
    "      \"rEasyString\": \"4.0\",\n",
    "      \"rErrorMsg\": null,\n",
    "      \"rHelpful\": 3,\n",
    "      \"rInterest\": \"Low\",\n",
    "      \"rOverall\": 3,\n",
    "      \"rOverallString\": \"3.0\",\n",
    "      \"rStatus\": 1,\n",
    "      \"rTextBookUse\": \"N/A\",\n",
    "      \"rWouldTakeAgain\": \"N/A\",\n",
    "      \"sId\": 1094,\n",
    "      \"takenForCredit\": \"N/A\",\n",
    "      \"teacher\": null,\n",
    "      \"teacherGrade\": \"N/A\",\n",
    "      \"teacherRatingTags\": \n",
    "      [\n",
    "      ],\n",
    "      \"unUsefulGrouping\": \"people\",\n",
    "      \"usefulGrouping\": \"people\"\n",
    "    },\n",
    "    {\n",
    "      \"attendance\": \"N/A\",\n",
    "      \"clarityColor\": \"good\",\n",
    "      \"easyColor\": \"average\",\n",
    "      \"helpColor\": \"average\",\n",
    "      \"helpCount\": 0,\n",
    "      \"id\": 3344001,\n",
    "      \"notHelpCount\": 0,\n",
    "      \"onlineClass\": \"\",\n",
    "      \"quality\": \"good\",\n",
    "      \"rClarity\": 4,\n",
    "      \"rClass\": \"ECON151\",\n",
    "      \"rComments\": \"Crazy Willie! Presents everything you need on the test. My only beef is that he doesn't use +/- grading. For some it's good and for others it hurts them. Oh well, I'm taking 152 with him now.\",\n",
    "      \"rDate\": \"02/10/2005\",\n",
    "      \"rEasy\": 2,\n",
    "      \"rEasyString\": \"2.0\",\n",
    "      \"rErrorMsg\": null,\n",
    "      \"rHelpful\": 3,\n",
    "      \"rInterest\": \"Sorta interested\",\n",
    "      \"rOverall\": 3.5,\n",
    "      \"rOverallString\": \"3.5\",\n",
    "      \"rStatus\": 1,\n",
    "      \"rTextBookUse\": \"N/A\",\n",
    "      \"rWouldTakeAgain\": \"N/A\",\n",
    "      \"sId\": 1094,\n",
    "      \"takenForCredit\": \"N/A\",\n",
    "      \"teacher\": null,\n",
    "      \"teacherGrade\": \"N/A\",\n",
    "      \"teacherRatingTags\": \n",
    "      [\n",
    "      ],\n",
    "      \"unUsefulGrouping\": \"people\",\n",
    "      \"usefulGrouping\": \"people\"\n",
    "    },\n",
    "    {\n",
    "      \"attendance\": \"N/A\",\n",
    "      \"clarityColor\": \"good\",\n",
    "      \"easyColor\": \"poor\",\n",
    "      \"helpColor\": \"good\",\n",
    "      \"helpCount\": 0,\n",
    "      \"id\": 3325139,\n",
    "      \"notHelpCount\": 0,\n",
    "      \"onlineClass\": \"\",\n",
    "      \"quality\": \"awesome\",\n",
    "      \"rClarity\": 5,\n",
    "      \"rClass\": \"151\",\n",
    "      \"rComments\": \"crazy dude, republican, aka the man\",\n",
    "      \"rDate\": \"02/05/2005\",\n",
    "      \"rEasy\": 1,\n",
    "      \"rEasyString\": \"1.0\",\n",
    "      \"rErrorMsg\": null,\n",
    "      \"rHelpful\": 5,\n",
    "      \"rInterest\": \"It's my life\",\n",
    "      \"rOverall\": 5,\n",
    "      \"rOverallString\": \"5.0\",\n",
    "      \"rStatus\": 1,\n",
    "      \"rTextBookUse\": \"N/A\",\n",
    "      \"rWouldTakeAgain\": \"N/A\",\n",
    "      \"sId\": 1094,\n",
    "      \"takenForCredit\": \"N/A\",\n",
    "      \"teacher\": null,\n",
    "      \"teacherGrade\": \"N/A\",\n",
    "      \"teacherRatingTags\": \n",
    "      [\n",
    "      ],\n",
    "      \"unUsefulGrouping\": \"people\",\n",
    "      \"usefulGrouping\": \"people\"\n",
    "    }\n",
    "  ],\n",
    "  \"remaining\": 242\n",
    "}\n",
    "'''"
   ]
  },
  {
   "cell_type": "code",
   "execution_count": 30,
   "metadata": {
    "collapsed": false
   },
   "outputs": [
    {
     "data": {
      "text/plain": [
       "str"
      ]
     },
     "execution_count": 30,
     "metadata": {},
     "output_type": "execute_result"
    }
   ],
   "source": [
    "type(body)\n"
   ]
  },
  {
   "cell_type": "code",
   "execution_count": 31,
   "metadata": {
    "collapsed": true
   },
   "outputs": [],
   "source": [
    "import json\n",
    "rating_dic = json.loads(body)"
   ]
  },
  {
   "cell_type": "code",
   "execution_count": 32,
   "metadata": {
    "collapsed": true
   },
   "outputs": [],
   "source": [
    "from scrapy.loader.processors import *"
   ]
  },
  {
   "cell_type": "code",
   "execution_count": 33,
   "metadata": {
    "collapsed": false
   },
   "outputs": [
    {
     "name": "stdout",
     "output_type": "stream",
     "text": [
      "Compose\t Field\t Identity\t Item\t ItemLoader\t Join\t MapCompose\t MergeDict\t SelectJmes\t \n",
      "TakeFirst\t arg_to_iter\t body\t body_dic\t c\t e\t json\t l\t new_body\t \n",
      "proc_id\t proc_response\t rating_dic\t requests\t t\t url\t wrap_loader_context\t \n"
     ]
    }
   ],
   "source": [
    "%who"
   ]
  },
  {
   "cell_type": "code",
   "execution_count": 34,
   "metadata": {
    "collapsed": true
   },
   "outputs": [],
   "source": [
    "from scrapy import Item, Field\n",
    "from scrapy.loader import ItemLoader\n"
   ]
  },
  {
   "cell_type": "code",
   "execution_count": 35,
   "metadata": {
    "collapsed": false
   },
   "outputs": [],
   "source": [
    "class RatingItem(Item):\n",
    "\n",
    "    rid = Field()\n",
    "    tid = Field()\n",
    "    sid = Field()\n",
    "\n",
    "    attendance = Field()\n",
    "    helpCount = Field()\n",
    "    notHelpCount = Field()\n",
    "\n",
    "    rClarity = Field()\n",
    "    rClass = Field()\n",
    "    rComments = Field()\n",
    "    rDate = Field()\n",
    "    rEasy = Field()\n",
    "    rErrorMsg = Field()\n",
    "    rHelpful = Field()\n",
    "    rInterest = Field()\n",
    "    rOverall = Field()\n",
    "    rStatus = Field()\n",
    "    rTextBookUse = Field()\n",
    "    rWouldTakeAgain = Field()\n",
    "\n",
    "    takenForCredit = Field()\n",
    "    teacher = Field()\n",
    "    teacherGrade = Field()\n",
    "    teacherRatingTags = Field()"
   ]
  },
  {
   "cell_type": "code",
   "execution_count": 36,
   "metadata": {
    "collapsed": false
   },
   "outputs": [
    {
     "data": {
      "text/plain": [
       "{'attendance': 'N/A',\n",
       " 'clarityColor': 'average',\n",
       " 'easyColor': 'average',\n",
       " 'helpColor': 'average',\n",
       " 'helpCount': 0,\n",
       " 'id': 11969142,\n",
       " 'notHelpCount': 0,\n",
       " 'onlineClass': '',\n",
       " 'quality': 'average',\n",
       " 'rClarity': 3,\n",
       " 'rClass': 'ECON100ONLINE',\n",
       " 'rComments': \"Definately not a class I would want to go too.  Lecutures were pretty boring.  4 midterm exams, all are open book.  Not too bad.  Alot of the questions come from the book.  Don't read it, just look it up during the test.\",\n",
       " 'rDate': '06/02/2006',\n",
       " 'rEasy': 3,\n",
       " 'rEasyString': '3.0',\n",
       " 'rErrorMsg': None,\n",
       " 'rHelpful': 3,\n",
       " 'rInterest': 'Sorta interested',\n",
       " 'rOverall': 3,\n",
       " 'rOverallString': '3.0',\n",
       " 'rStatus': 1,\n",
       " 'rTextBookUse': 'N/A',\n",
       " 'rWouldTakeAgain': 'N/A',\n",
       " 'sId': 1094,\n",
       " 'takenForCredit': 'N/A',\n",
       " 'teacher': None,\n",
       " 'teacherGrade': 'N/A',\n",
       " 'teacherRatingTags': [],\n",
       " 'unUsefulGrouping': 'people',\n",
       " 'usefulGrouping': 'people'}"
      ]
     },
     "execution_count": 36,
     "metadata": {},
     "output_type": "execute_result"
    }
   ],
   "source": [
    "rating = rating_dic['ratings'][0]\n",
    "rating"
   ]
  },
  {
   "cell_type": "code",
   "execution_count": 37,
   "metadata": {
    "collapsed": false
   },
   "outputs": [],
   "source": [
    "l = ItemLoader(item = RatingItem())\n",
    "l.default_output_processor = TakeFirst()"
   ]
  },
  {
   "cell_type": "code",
   "execution_count": 38,
   "metadata": {
    "collapsed": false
   },
   "outputs": [],
   "source": [
    "\n",
    "           \n",
    "            # error, change tid to id\n",
    "\n",
    "\n",
    "l.add_value('attendance', rating['attendance'])\n",
    "l.add_value('helpCount', rating['helpCount'])\n",
    "l.add_value('notHelpCount', rating['notHelpCount'])\n",
    "l.add_value('rClarity', rating['rClarity'])\n",
    "l.add_value('rClass', rating['rClass'])\n",
    "l.add_value('rComments', rating['rComments'])\n",
    "l.add_value('rDate', rating['rDate'])\n"
   ]
  },
  {
   "cell_type": "code",
   "execution_count": 39,
   "metadata": {
    "collapsed": true
   },
   "outputs": [],
   "source": [
    "l?"
   ]
  },
  {
   "cell_type": "code",
   "execution_count": 40,
   "metadata": {
    "collapsed": false
   },
   "outputs": [
    {
     "data": {
      "text/plain": [
       "\"Definately not a class I would want to go too.  Lecutures were pretty boring.  4 midterm exams, all are open book.  Not too bad.  Alot of the questions come from the book.  Don't read it, just look it up during the test.\""
      ]
     },
     "execution_count": 40,
     "metadata": {},
     "output_type": "execute_result"
    }
   ],
   "source": [
    "t = l.load_item()\n",
    "t[\"rComments\"]"
   ]
  },
  {
   "cell_type": "code",
   "execution_count": 41,
   "metadata": {
    "collapsed": false
   },
   "outputs": [
    {
     "data": {
      "text/plain": [
       "{'attendance': 'N/A',\n",
       " 'helpCount': 0,\n",
       " 'notHelpCount': 0,\n",
       " 'rClarity': 3,\n",
       " 'rClass': 'ECON100ONLINE',\n",
       " 'rComments': 'Definately not a class I would want to go too.  Lecutures were '\n",
       "              'pretty boring.  4 midterm exams, all are open book.  Not too '\n",
       "              \"bad.  Alot of the questions come from the book.  Don't read it, \"\n",
       "              'just look it up during the test.',\n",
       " 'rDate': '06/02/2006'}"
      ]
     },
     "execution_count": 41,
     "metadata": {},
     "output_type": "execute_result"
    }
   ],
   "source": [
    "t"
   ]
  },
  {
   "cell_type": "code",
   "execution_count": 42,
   "metadata": {
    "collapsed": false
   },
   "outputs": [
    {
     "data": {
      "text/plain": [
       "<scrapy.loader.processors.TakeFirst at 0x104f31438>"
      ]
     },
     "execution_count": 42,
     "metadata": {},
     "output_type": "execute_result"
    }
   ],
   "source": [
    "l.default_output_processor"
   ]
  },
  {
   "cell_type": "code",
   "execution_count": 43,
   "metadata": {
    "collapsed": false
   },
   "outputs": [
    {
     "data": {
      "text/plain": [
       "\"Definately not a class I would want to go too.  Lecutures were pretty boring.  4 midterm exams, all are open book.  Not too bad.  Alot of the questions come from the book.  Don't read it, just look it up during the test.\""
      ]
     },
     "execution_count": 43,
     "metadata": {},
     "output_type": "execute_result"
    }
   ],
   "source": [
    "rating['rComments']"
   ]
  },
  {
   "cell_type": "code",
   "execution_count": 44,
   "metadata": {
    "collapsed": true
   },
   "outputs": [],
   "source": [
    "class ProfessorItem(Item):\n",
    "    # define the fields for your item here like:\n",
    "    # name = scrapy.Field()\n",
    "    tid = Field()\n",
    "    sid = Field()\n",
    "\n",
    "    pname = Field()\n",
    "\n",
    "    department = Field()\n",
    "    university = Field()\n",
    "\n",
    "    quality = Field()\n",
    "    difficulty = Field()\n",
    "\n",
    "    n_rating = Field()\n",
    "    oncemore = Field()\n",
    "\n",
    "    tags = Field()"
   ]
  },
  {
   "cell_type": "code",
   "execution_count": 45,
   "metadata": {
    "collapsed": false
   },
   "outputs": [],
   "source": [
    "il = ItemLoader(item = ProfessorItem())\n",
    "il.default_output_processor = TakeFirst()"
   ]
  },
  {
   "cell_type": "code",
   "execution_count": 46,
   "metadata": {
    "collapsed": false
   },
   "outputs": [],
   "source": [
    "il.add_value('tid', 193)\n",
    "il.add_value('sid', '122')\n",
    "il.add_value('pname', 'junjie')         \n",
    "il.add_value('pname', 'luo')\n"
   ]
  },
  {
   "cell_type": "code",
   "execution_count": 47,
   "metadata": {
    "collapsed": false
   },
   "outputs": [
    {
     "data": {
      "text/plain": [
       "{'pname': 'junjie', 'sid': '122', 'tid': 193}"
      ]
     },
     "execution_count": 47,
     "metadata": {},
     "output_type": "execute_result"
    }
   ],
   "source": [
    "e = il.load_item()\n",
    "e"
   ]
  },
  {
   "cell_type": "code",
   "execution_count": 48,
   "metadata": {
    "collapsed": false
   },
   "outputs": [],
   "source": [
    "t = ['\\r\\n'\n",
    "                '            Professor in the Psychology department\\r\\n'\n",
    "                '            ',\n",
    "                '\\r\\n            ',\n",
    "                '\\r\\n          ']"
   ]
  },
  {
   "cell_type": "code",
   "execution_count": 49,
   "metadata": {
    "collapsed": false
   },
   "outputs": [],
   "source": [
    "de = ItemLoader(item = ProfessorItem())\n",
    "de.add_value('department', t, \n",
    "             re = 'Professor in the (.+) department')\n",
    "de.default_output_processor = Join()"
   ]
  },
  {
   "cell_type": "code",
   "execution_count": null,
   "metadata": {
    "collapsed": false
   },
   "outputs": [],
   "source": []
  },
  {
   "cell_type": "code",
   "execution_count": 50,
   "metadata": {
    "collapsed": false
   },
   "outputs": [
    {
     "data": {
      "text/plain": [
       "{'department': 'Psychology'}"
      ]
     },
     "execution_count": 50,
     "metadata": {},
     "output_type": "execute_result"
    }
   ],
   "source": [
    "de.load_item()\n"
   ]
  },
  {
   "cell_type": "code",
   "execution_count": null,
   "metadata": {
    "collapsed": false
   },
   "outputs": [],
   "source": []
  },
  {
   "cell_type": "code",
   "execution_count": 1,
   "metadata": {
    "collapsed": false
   },
   "outputs": [],
   "source": [
    "l = ['a', 'b', 'c']\n",
    "e = [2, 3, 5]"
   ]
  },
  {
   "cell_type": "code",
   "execution_count": 2,
   "metadata": {
    "collapsed": true
   },
   "outputs": [],
   "source": [
    "c = dict(zip(l,e))"
   ]
  },
  {
   "cell_type": "code",
   "execution_count": 3,
   "metadata": {
    "collapsed": false
   },
   "outputs": [
    {
     "data": {
      "text/plain": [
       "{'a': 2, 'b': 3, 'c': 5}"
      ]
     },
     "execution_count": 3,
     "metadata": {},
     "output_type": "execute_result"
    }
   ],
   "source": [
    "c"
   ]
  },
  {
   "cell_type": "code",
   "execution_count": 4,
   "metadata": {
    "collapsed": true
   },
   "outputs": [],
   "source": [
    "import json"
   ]
  },
  {
   "cell_type": "code",
   "execution_count": 5,
   "metadata": {
    "collapsed": false
   },
   "outputs": [
    {
     "data": {
      "text/plain": [
       "'{\"c\": 5, \"b\": 3, \"a\": 2}'"
      ]
     },
     "execution_count": 5,
     "metadata": {},
     "output_type": "execute_result"
    }
   ],
   "source": [
    "json.dumps(c)"
   ]
  },
  {
   "cell_type": "code",
   "execution_count": null,
   "metadata": {
    "collapsed": true
   },
   "outputs": [],
   "source": []
  },
  {
   "cell_type": "code",
   "execution_count": 1,
   "metadata": {
    "collapsed": false
   },
   "outputs": [],
   "source": [
    "p = '(9)'"
   ]
  },
  {
   "cell_type": "code",
   "execution_count": 2,
   "metadata": {
    "collapsed": false
   },
   "outputs": [
    {
     "data": {
      "text/plain": [
       "9"
      ]
     },
     "execution_count": 2,
     "metadata": {},
     "output_type": "execute_result"
    }
   ],
   "source": [
    "int(p.strip('(').strip(')'))"
   ]
  },
  {
   "cell_type": "code",
   "execution_count": 3,
   "metadata": {
    "collapsed": false
   },
   "outputs": [
    {
     "data": {
      "text/plain": [
       "[1, 1, 1, 1, 1, 1, 1, 1, 1, 1]"
      ]
     },
     "execution_count": 3,
     "metadata": {},
     "output_type": "execute_result"
    }
   ],
   "source": [
    "[1]*10"
   ]
  },
  {
   "cell_type": "code",
   "execution_count": 4,
   "metadata": {
    "collapsed": true
   },
   "outputs": [],
   "source": [
    "p = '\\r\\n                  4.0\\r\\n                '"
   ]
  },
  {
   "cell_type": "code",
   "execution_count": 5,
   "metadata": {
    "collapsed": false
   },
   "outputs": [
    {
     "data": {
      "text/plain": [
       "'4.0'"
      ]
     },
     "execution_count": 5,
     "metadata": {},
     "output_type": "execute_result"
    }
   ],
   "source": [
    "p.replace(\"\\r\\n\",'').replace(' ','')"
   ]
  },
  {
   "cell_type": "code",
   "execution_count": 7,
   "metadata": {
    "collapsed": false
   },
   "outputs": [
    {
     "name": "stdout",
     "output_type": "stream",
     "text": [
      "p\t \n"
     ]
    }
   ],
   "source": [
    "%who"
   ]
  },
  {
   "cell_type": "code",
   "execution_count": 1,
   "metadata": {
    "collapsed": true
   },
   "outputs": [],
   "source": [
    "t = {\n",
    "        \"pk_id\":1384097,\n",
    "        \"total_number_of_ratings_i\":0,\n",
    "        \"schoolid_s\":\"1094\",\n",
    "        \"teacherfirstname_t\":\"Nichele\",\n",
    "        \"teacherlastname_t\":\"Adeogun\"}"
   ]
  },
  {
   "cell_type": "code",
   "execution_count": 2,
   "metadata": {
    "collapsed": false
   },
   "outputs": [
    {
     "name": "stdout",
     "output_type": "stream",
     "text": [
      "0\n"
     ]
    }
   ],
   "source": [
    "try:\n",
    "    n = t['total_number_of_ratings_i']\n",
    "except:\n",
    "    n = 0\n",
    "print(n)"
   ]
  },
  {
   "cell_type": "code",
   "execution_count": 3,
   "metadata": {
    "collapsed": false
   },
   "outputs": [
    {
     "data": {
      "text/plain": [
       "True"
      ]
     },
     "execution_count": 3,
     "metadata": {},
     "output_type": "execute_result"
    }
   ],
   "source": [
    "'pk_id' in t"
   ]
  },
  {
   "cell_type": "code",
   "execution_count": null,
   "metadata": {
    "collapsed": true
   },
   "outputs": [],
   "source": []
  }
 ],
 "metadata": {
  "anaconda-cloud": {},
  "kernelspec": {
   "display_name": "Python [Root]",
   "language": "python",
   "name": "Python [Root]"
  },
  "language_info": {
   "codemirror_mode": {
    "name": "ipython",
    "version": 3
   },
   "file_extension": ".py",
   "mimetype": "text/x-python",
   "name": "python",
   "nbconvert_exporter": "python",
   "pygments_lexer": "ipython3",
   "version": "3.5.2"
  }
 },
 "nbformat": 4,
 "nbformat_minor": 0
}
