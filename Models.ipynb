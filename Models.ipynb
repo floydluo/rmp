{
 "cells": [
  {
   "cell_type": "code",
   "execution_count": 1,
   "metadata": {
    "collapsed": true
   },
   "outputs": [],
   "source": [
    "import os \n",
    "\n",
    "from sqlalchemy import create_engine\n",
    "from sqlalchemy.ext.declarative import declarative_base\n",
    "\n",
    "from sqlalchemy import Column, String, Integer, Float, Table, Text\n",
    "\n",
    "from sqlalchemy import ForeignKey\n",
    "from sqlalchemy.orm import relationship\n",
    "\n",
    "\n",
    "def db_connect(basedir, name = \"data\"):\n",
    "    return create_engine('sqlite:///' + os.path.join(basedir, name + '.sqlite'))\n",
    "\n",
    "\n",
    "Base = declarative_base()\n",
    "\n",
    "def create_table(engine):\n",
    "    Base.metadata.create_all(engine)\n",
    "\n"
   ]
  },
  {
   "cell_type": "code",
   "execution_count": 2,
   "metadata": {
    "collapsed": false
   },
   "outputs": [],
   "source": [
    "\n",
    "\n",
    "class Professor(Base):\n",
    "    __tablename__ = 'professors'\n",
    "\n",
    "    id = Column(Integer, primary_key = True)\n",
    "    tid = Column(Integer)\n",
    "    sid = Column(Integer)\n",
    "\n",
    "    pname = Column(String)\n",
    "    department = Column(String)\n",
    "    university = Column(String)\n",
    "\n",
    "    quality = Column(Float)\n",
    "    difficulty = Column(Float)\n",
    "    n_rating = Column(Integer)\n",
    "    \n",
    "    # what type?\n",
    "    tags = Column(String)\n",
    "    \n",
    "\n",
    "    def __repr__(self):\n",
    "        return \"<Professor(name = %r)>\" %self.pname\n",
    "\n",
    "\n",
    "class Rating(Base):\n",
    "    __tablename__ = 'ratings'\n",
    "\n",
    "    id = Column(Integer, primary_key = True)\n",
    "\n",
    "    rid = Column(Integer)\n",
    "    tid = Column(Integer)\n",
    "    sid = Column(Integer)\n",
    "\n",
    "    attendance = Column(String)\n",
    "    helpCount = Column(Integer)\n",
    "    notHelpCount = Column(Integer)\n",
    "\n",
    "    rClarity = Column(Float)\n",
    "    rClass = Column(String)\n",
    "    rComments = Column(Text)\n",
    "    rDate = Column(String)\n",
    "    rEasy = Column(Float)\n",
    "    rErrorMsg = Column(String)\n",
    "    rHelpful = Column(Float)\n",
    "    rInterest = Column(String)\n",
    "    rOverall = Column(Float)\n",
    "    rStatus = Column(Integer)\n",
    "    rTextBookUse = Column(String)\n",
    "    rWouldTakeAgain = Column(String)\n",
    "\n",
    "    takenForCredit = Column(String)\n",
    "    teacher = Column(String)\n",
    "    teacherGrade = Column(String)\n",
    "\n",
    "    tags = Column(String)\n",
    "\n",
    "    def __repr__(self):\n",
    "        return \"<Rating(rOverall = %r)>\" %self.rOverall\n",
    "\n"
   ]
  },
  {
   "cell_type": "code",
   "execution_count": 3,
   "metadata": {
    "collapsed": false
   },
   "outputs": [
    {
     "data": {
      "text/plain": [
       "Table('professors', MetaData(bind=None), Column('id', Integer(), table=<professors>, primary_key=True, nullable=False), Column('tid', Integer(), table=<professors>), Column('sid', Integer(), table=<professors>), Column('pname', String(), table=<professors>), Column('department', String(), table=<professors>), Column('university', String(), table=<professors>), Column('quality', Float(), table=<professors>), Column('difficulty', Float(), table=<professors>), Column('n_rating', Integer(), table=<professors>), Column('tags', String(), table=<professors>), schema=None)"
      ]
     },
     "execution_count": 3,
     "metadata": {},
     "output_type": "execute_result"
    }
   ],
   "source": [
    "Professor.__table__"
   ]
  },
  {
   "cell_type": "code",
   "execution_count": 4,
   "metadata": {
    "collapsed": true
   },
   "outputs": [],
   "source": [
    "rating = {'attendance': 'Mandatory',\n",
    " 'helpCount': 0,\n",
    " 'notHelpCount': 0,\n",
    " 'rClarity': 1,\n",
    " 'rClass': 'CRJ304',\n",
    " 'rComments': \"The only way that you won't pass this class is if you don't \"\n",
    "              \"try.  He's very lenient but not that helpful or clear. Please \"\n",
    "              \"don't buy the book, you  don't need it. There are two exams and \"\n",
    "              'one final. There is also a group presentation. ',\n",
    " 'rDate': '12/17/2014',\n",
    " 'rEasy': 3,\n",
    " 'rHelpful': 1,\n",
    " 'rInterest': 'Meh',\n",
    " 'rOverall': 1,\n",
    " 'rStatus': 1,\n",
    " 'rTextBookUse': 'No',\n",
    " 'rWouldTakeAgain': 'N/A',\n",
    " 'rid': 24115684,\n",
    " 'sid': 1094,\n",
    " 'tags': '{}',\n",
    " 'takenForCredit': 'Yes',\n",
    " 'teacherGrade': 'A-',\n",
    " 'tid': 82059}"
   ]
  },
  {
   "cell_type": "code",
   "execution_count": 5,
   "metadata": {
    "collapsed": false
   },
   "outputs": [
    {
     "name": "stdout",
     "output_type": "stream",
     "text": [
      "<class 'str'>\n"
     ]
    }
   ],
   "source": [
    "print(type(rating['rComments']))\n",
    "t = rating['rComments']"
   ]
  },
  {
   "cell_type": "code",
   "execution_count": 6,
   "metadata": {
    "collapsed": false
   },
   "outputs": [],
   "source": [
    "t?"
   ]
  },
  {
   "cell_type": "code",
   "execution_count": 7,
   "metadata": {
    "collapsed": false
   },
   "outputs": [
    {
     "data": {
      "text/plain": [
       "<Rating(rOverall = 1)>"
      ]
     },
     "execution_count": 7,
     "metadata": {},
     "output_type": "execute_result"
    }
   ],
   "source": [
    "rating_d = Rating(**rating)\n",
    "rating_d"
   ]
  },
  {
   "cell_type": "code",
   "execution_count": 8,
   "metadata": {
    "collapsed": true
   },
   "outputs": [],
   "source": [
    "professor = {'department': 'Business',\n",
    " 'difficulty': 1.7,\n",
    " 'n_rating': 19,\n",
    " 'pname': 'Sami Abdel-Salam',\n",
    " 'quality': 4.53,\n",
    " 'sid': 1094,\n",
    " 'tags': '{\"Caring\": 1, \"Inspirational\": 1, \"Respected\": 2}',\n",
    " 'tid': 82059,\n",
    " 'university': 'University of Delaware'}"
   ]
  },
  {
   "cell_type": "code",
   "execution_count": 9,
   "metadata": {
    "collapsed": false
   },
   "outputs": [
    {
     "data": {
      "text/plain": [
       "dict"
      ]
     },
     "execution_count": 9,
     "metadata": {},
     "output_type": "execute_result"
    }
   ],
   "source": [
    "type(professor)"
   ]
  },
  {
   "cell_type": "code",
   "execution_count": 10,
   "metadata": {
    "collapsed": false
   },
   "outputs": [
    {
     "data": {
      "text/plain": [
       "<Professor(name = 'Sami Abdel-Salam')>"
      ]
     },
     "execution_count": 10,
     "metadata": {},
     "output_type": "execute_result"
    }
   ],
   "source": [
    "pro = Professor(**professor)\n",
    "pro"
   ]
  },
  {
   "cell_type": "code",
   "execution_count": 11,
   "metadata": {
    "collapsed": false
   },
   "outputs": [
    {
     "data": {
      "text/plain": [
       "Table('professors', MetaData(bind=None), Column('id', Integer(), table=<professors>, primary_key=True, nullable=False), Column('tid', Integer(), table=<professors>), Column('sid', Integer(), table=<professors>), Column('pname', String(), table=<professors>), Column('department', String(), table=<professors>), Column('university', String(), table=<professors>), Column('quality', Float(), table=<professors>), Column('difficulty', Float(), table=<professors>), Column('n_rating', Integer(), table=<professors>), Column('tags', String(), table=<professors>), schema=None)"
      ]
     },
     "execution_count": 11,
     "metadata": {},
     "output_type": "execute_result"
    }
   ],
   "source": [
    "pro.__table__"
   ]
  },
  {
   "cell_type": "code",
   "execution_count": 14,
   "metadata": {
    "collapsed": true
   },
   "outputs": [],
   "source": [
    "from sqlalchemy.orm import sessionmaker\n",
    "engine = db_connect(os.getcwd())\n",
    "create_table(engine)\n",
    "Session = sessionmaker(bind = engine)\n",
    "session = Session()"
   ]
  },
  {
   "cell_type": "code",
   "execution_count": 9,
   "metadata": {
    "collapsed": true
   },
   "outputs": [],
   "source": []
  },
  {
   "cell_type": "code",
   "execution_count": 10,
   "metadata": {
    "collapsed": true
   },
   "outputs": [],
   "source": []
  },
  {
   "cell_type": "code",
   "execution_count": 11,
   "metadata": {
    "collapsed": true
   },
   "outputs": [],
   "source": []
  },
  {
   "cell_type": "code",
   "execution_count": 12,
   "metadata": {
    "collapsed": true
   },
   "outputs": [],
   "source": []
  },
  {
   "cell_type": "code",
   "execution_count": 12,
   "metadata": {
    "collapsed": false
   },
   "outputs": [],
   "source": [
    "rate = Rating(**rating)"
   ]
  },
  {
   "cell_type": "code",
   "execution_count": null,
   "metadata": {
    "collapsed": true
   },
   "outputs": [],
   "source": []
  }
 ],
 "metadata": {
  "anaconda-cloud": {},
  "kernelspec": {
   "display_name": "Python [Root]",
   "language": "python",
   "name": "Python [Root]"
  },
  "language_info": {
   "codemirror_mode": {
    "name": "ipython",
    "version": 3
   },
   "file_extension": ".py",
   "mimetype": "text/x-python",
   "name": "python",
   "nbconvert_exporter": "python",
   "pygments_lexer": "ipython3",
   "version": "3.5.2"
  }
 },
 "nbformat": 4,
 "nbformat_minor": 0
}
